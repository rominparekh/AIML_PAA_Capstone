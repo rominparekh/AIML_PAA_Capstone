{
 "cells": [
  {
   "cell_type": "markdown",
   "metadata": {},
   "source": [
    "# Customer Segmentation - Complete EDA Analysis\n",
    "\n",
    "**Comprehensive Exploratory Data Analysis for 33,000 Customer Records**\n",
    "\n",
    "This notebook generates all visualizations and insights for customer segmentation analysis.\n",
    "\n",
    "---\n",
    "\n",
    "## 📋 Analysis Overview\n",
    "- **Dataset**: 33,000 customer records with demographic and socioeconomic features\n",
    "- **Output**: 8 professional visualizations + comprehensive statistical insights\n",
    "- **Business Goal**: Enable data-driven customer segmentation strategies\n",
    "\n",
    "---"
   ]
  },
  {
   "cell_type": "markdown",
   "metadata": {},
   "source": [
    "## 1. Setup and Data Loading"
   ]
  },
  {
   "cell_type": "code",
   "execution_count": null,
   "metadata": {},
   "outputs": [],
   "source": [
    "# Import required libraries\n",
    "import pandas as pd\n",
    "import numpy as np\n",
    "import matplotlib.pyplot as plt\n",
    "import seaborn as sns\n",
    "import warnings\n",
    "from scipy import stats\n",
    "import os\n",
    "\n",
    "# Configure settings\n",
    "warnings.filterwarnings('ignore')\n",
    "plt.style.use('seaborn-v0_8')\n",
    "sns.set_palette(\"husl\")\n",
    "plt.rcParams['figure.dpi'] = 100  # Lower DPI for notebook display\n",
    "plt.rcParams['savefig.dpi'] = 300  # High DPI for saved plots\n",
    "\n",
    "# Create output directory\n",
    "os.makedirs('figs', exist_ok=True)\n",
    "\n",
    "print(\"🎨 CUSTOMER SEGMENTATION - COMPLETE EDA ANALYSIS\")\n",
    "print(\"=\" * 60)"
   ]
  },
  {
   "cell_type": "code",
   "execution_count": null,
   "metadata": {},
   "outputs": [],
   "source": [
    "# Load the dataset\n",
    "df = pd.read_csv('data/segmentation_data_33k.csv')\n",
    "\n",
    "print(f\"📊 Dataset loaded: {df.shape[0]:,} customers × {df.shape[1]} features\")\n",
    "print(f\"📋 Columns: {list(df.columns)}\")\n",
    "\n",
    "# Display basic info\n",
    "print(\"\\n📈 Dataset Info:\")\n",
    "df.info()\n",
    "\n",
    "print(\"\\n📊 First 5 rows:\")\n",
    "display(df.head())"
   ]
  },
  {
   "cell_type": "code",
   "execution_count": null,
   "metadata": {},
   "outputs": [],
   "source": [
    "# Data dictionary for interpretations\n",
    "label_mappings = {\n",
    "    'Sex': {0: 'Female', 1: 'Male'},\n",
    "    'Marital status': {0: 'Single', 1: 'Married'},\n",
    "    'Education': {0: 'Basic', 1: 'Secondary', 2: 'Higher', 3: 'Graduate'},\n",
    "    'Occupation': {0: 'Unemployed/Student', 1: 'Skilled Worker', 2: 'Management'},\n",
    "    'Settlement size': {0: 'Small City', 1: 'Medium City', 2: 'Large City'}\n",
    "}\n",
    "\n",
    "# Create labeled dataframe for visualizations\n",
    "df_labeled = df.copy()\n",
    "for col, mapping in label_mappings.items():\n",
    "    df_labeled[col] = df_labeled[col].map(mapping)\n",
    "\n",
    "print(\"✅ Data dictionary created and labels applied\")\n",
    "print(\"🔍 Ready for comprehensive analysis...\")"
   ]
  },
  {
   "cell_type": "markdown",
   "metadata": {},
   "source": [
    "## 2. Quick Statistical Overview"
   ]
  },
  {
   "cell_type": "code",
   "execution_count": null,
   "metadata": {},
   "outputs": [],
   "source": [
    "# Quick statistical summary\n",
    "print(\"📊 STATISTICAL SUMMARY\")\n",
    "print(\"=\" * 30)\n",
    "\n",
    "print(f\"\\n🔢 Dataset Overview:\")\n",
    "print(f\"   • Total customers: {len(df):,}\")\n",
    "print(f\"   • Features: {len(df.columns)}\")\n",
    "print(f\"   • Missing values: {df.isnull().sum().sum()} (0%)\")\n",
    "print(f\"   • Data quality: Perfect\")\n",
    "\n",
    "print(f\"\\n📅 Age Statistics:\")\n",
    "print(f\"   • Mean: {df['Age'].mean():.1f} years\")\n",
    "print(f\"   • Range: {df['Age'].min()}-{df['Age'].max()} years\")\n",
    "print(f\"   • Std Dev: {df['Age'].std():.1f} years\")\n",
    "\n",
    "print(f\"\\n💰 Income Statistics:\")\n",
    "print(f\"   • Mean: ${df['Income'].mean():,.0f}\")\n",
    "print(f\"   • Range: ${df['Income'].min():,.0f} - ${df['Income'].max():,.0f}\")\n",
    "print(f\"   • Std Dev: ${df['Income'].std():,.0f}\")\n",
    "\n",
    "print(f\"\\n🔗 Correlation:\")\n",
    "correlation = df['Age'].corr(df['Income'])\n",
    "print(f\"   • Age-Income: {correlation:.3f}\")\n",
    "\n",
    "# Display statistical summary table\n",
    "print(\"\\n📈 Detailed Statistics:\")\n",
    "display(df.describe())"
   ]
  },
  {
   "cell_type": "markdown",
   "metadata": {},
   "source": [
    "## 3. Run Complete Analysis\n",
    "\n",
    "**Note**: The following cell runs the complete analysis script that generates all 8 plots and comprehensive insights. This may take a few moments to complete."
   ]
  },
  {
   "cell_type": "code",
   "execution_count": null,
   "metadata": {},
   "outputs": [],
   "source": [
    "# Run the complete EDA analysis\n",
    "print(\"🚀 Running complete EDA analysis...\")\n",
    "print(\"This will generate all plots and insights.\")\n",
    "print(\"\\n\" + \"=\"*50)\n",
    "\n",
    "# Execute the complete analysis script\n",
    "exec(open('complete_eda_analysis.py').read())"
   ]
  },
  {
   "cell_type": "markdown",
   "metadata": {},
   "source": [
    "## 4. Display Generated Plots\n",
    "\n",
    "All plots have been saved to the `figs/` folder. Here are the generated visualizations:"
   ]
  },
  {
   "cell_type": "code",
   "execution_count": null,
   "metadata": {},
   "outputs": [],
   "source": [
    "# Display all generated plots\n",
    "import matplotlib.image as mpimg\n",
    "\n",
    "plot_files = [\n",
    "    ('01_dataset_overview.png', 'Dataset Overview'),\n",
    "    ('02_numerical_distributions.png', 'Numerical Variables Distribution'),\n",
    "    ('03_categorical_distributions.png', 'Categorical Variables Distribution'),\n",
    "    ('04_correlation_analysis.png', 'Correlation Analysis'),\n",
    "    ('05_income_by_categories.png', 'Income by Categories'),\n",
    "    ('06_advanced_analysis.png', 'Advanced Multi-dimensional Analysis'),\n",
    "    ('07_outlier_analysis.png', 'Outlier Detection'),\n",
    "    ('08_summary_statistics.png', 'Summary Statistics')\n",
    "]\n",
    "\n",
    "for filename, title in plot_files:\n",
    "    print(f\"\\n📊 {title}\")\n",
    "    print(\"-\" * 40)\n",
    "    \n",
    "    try:\n",
    "        img = mpimg.imread(f'figs/{filename}')\n",
    "        plt.figure(figsize=(12, 8))\n",
    "        plt.imshow(img)\n",
    "        plt.axis('off')\n",
    "        plt.title(title, fontsize=14, fontweight='bold', pad=20)\n",
    "        plt.tight_layout()\n",
    "        plt.show()\n",
    "    except FileNotFoundError:\n",
    "        print(f\"❌ Plot not found: {filename}\")\n",
    "    except Exception as e:\n",
    "        print(f\"❌ Error displaying {filename}: {e}\")"
   ]
  },
  {
   "cell_type": "markdown",
   "metadata": {},
   "source": [
    "## 5. Key Business Insights Summary\n",
    "\n",
    "Based on the comprehensive analysis of 33,000 customer records:"
   ]
  },
  {
   "cell_type": "code",
   "execution_count": null,
   "metadata": {},
   "outputs": [],
   "source": [
    "# Summary of key business insights\n",
    "print(\"🎯 KEY BUSINESS INSIGHTS SUMMARY\")\n",
    "print(\"=\" * 40)\n",
    "\n",
    "# Calculate key metrics\n",
    "female_pct = (df['Sex'] == 0).sum() / len(df) * 100\n",
    "single_pct = (df['Marital status'] == 0).sum() / len(df) * 100\n",
    "secondary_ed_pct = (df['Education'] == 1).sum() / len(df) * 100\n",
    "skilled_worker_pct = (df['Occupation'] == 1).sum() / len(df) * 100\n",
    "\n",
    "# Income by gender\n",
    "female_income = df[df['Sex'] == 0]['Income'].mean()\n",
    "male_income = df[df['Sex'] == 1]['Income'].mean()\n",
    "gender_gap = female_income - male_income\n",
    "\n",
    "# Outliers\n",
    "income_q3 = df['Income'].quantile(0.75)\n",
    "income_iqr = df['Income'].quantile(0.75) - df['Income'].quantile(0.25)\n",
    "income_outlier_threshold = income_q3 + 1.5 * income_iqr\n",
    "income_outliers = (df['Income'] > income_outlier_threshold).sum()\n",
    "\n",
    "print(f\"\\n👥 Customer Demographics:\")\n",
    "print(f\"   • {female_pct:.1f}% Female, {100-female_pct:.1f}% Male\")\n",
    "print(f\"   • {single_pct:.1f}% Single, {100-single_pct:.1f}% Married\")\n",
    "print(f\"   • {secondary_ed_pct:.1f}% have Secondary Education\")\n",
    "print(f\"   • {skilled_worker_pct:.1f}% are Skilled Workers\")\n",
    "\n",
    "print(f\"\\n💰 Income Insights:\")\n",
    "print(f\"   • Average Income: ${df['Income'].mean():,.0f}\")\n",
    "print(f\"   • Female Income: ${female_income:,.0f}\")\n",
    "print(f\"   • Male Income: ${male_income:,.0f}\")\n",
    "print(f\"   • Gender Gap: ${gender_gap:,.0f} (Female higher)\")\n",
    "print(f\"   • High-Income Outliers: {income_outliers:,} customers (${income_outlier_threshold:,.0f}+)\")\n",
    "\n",
    "print(f\"\\n🎯 Segmentation Opportunities:\")\n",
    "print(f\"   • Income-based segments (Low/Medium/High)\")\n",
    "print(f\"   • Age-based segments (Young/Adult/Middle/Mature)\")\n",
    "print(f\"   • Education-occupation combinations\")\n",
    "print(f\"   • Geographic segments by settlement size\")\n",
    "print(f\"   • Premium segment for high-income outliers\")\n",
    "\n",
    "print(f\"\\n🚀 Recommended Next Steps:\")\n",
    "print(f\"   • Apply K-Means clustering (4-6 clusters)\")\n",
    "print(f\"   • Validate segments with business interpretation\")\n",
    "print(f\"   • Develop targeted marketing strategies\")\n",
    "print(f\"   • Create customer personas for each segment\")\n",
    "\n",
    "print(f\"\\n✅ Analysis Status: COMPLETE\")\n",
    "print(f\"📊 Generated: 8 professional visualizations\")\n",
    "print(f\"📁 Saved to: figs/ folder\")\n",
    "print(f\"🎉 Ready for clustering phase!\")"
   ]
  },
  {
   "cell_type": "markdown",
   "metadata": {},
   "source": [
    "---\n",
    "\n",
    "## 📋 Analysis Complete!\n",
    "\n",
    "This comprehensive EDA has analyzed **33,000 customer records** and generated:\n",
    "\n",
    "✅ **8 Professional Visualizations** saved to `figs/` folder  \n",
    "✅ **Comprehensive Statistical Insights** with business implications  \n",
    "✅ **Segmentation Strategy Recommendations** for marketing teams  \n",
    "✅ **Data Quality Assessment** confirming readiness for clustering  \n",
    "\n",
    "**Next Phase**: Customer Segmentation using K-Means clustering with the insights from this analysis.\n",
    "\n",
    "---\n",
    "\n",
    "**Dataset**: 33,000 customer records  \n",
    "**Analysis Date**: September 28, 2025  \n",
    "**Status**: ✅ Ready for Clustering Phase"
   ]
  }
 ],
 "metadata": {
  "kernelspec": {
   "display_name": "Python 3",
   "language": "python",
   "name": "python3"
  },
  "language_info": {
   "codemirror_mode": {
    "name": "ipython",
    "version": 3
   },
   "file_extension": ".py",
   "mimetype": "text/x-python",
   "name": "python",
   "nbconvert_exporter": "python",
   "pygments_lexer": "ipython3",
   "version": "3.8.5"
  }
 },
 "nbformat": 4,
 "nbformat_minor": 4
}
